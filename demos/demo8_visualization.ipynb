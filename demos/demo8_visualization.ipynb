{
 "cells": [
  {
   "cell_type": "code",
   "execution_count": 25,
   "metadata": {},
   "outputs": [],
   "source": [
    "import numpy as np\n",
    "import matplotlib.pyplot as plt\n",
    "import pandas as pd"
   ]
  },
  {
   "cell_type": "markdown",
   "metadata": {},
   "source": [
    "## Hyperspectral image visualization\n",
    "\n",
    "The following example shows how to use ramanTools.plot3d to interactively visualize hyperspectral data cubes. You can click in both axes or use keyboard arrows to change the ijk position of the cursor (red crosshair).\n",
    "\n",
    "Note that the tool will not work in interactive mode if the matplotlib's *inline* backend is used (default). Use either `%matplotlib qt` (should work by default) or `%matplotlib widget` (needs to be installed and configured)."
   ]
  },
  {
   "cell_type": "code",
   "execution_count": 26,
   "metadata": {},
   "outputs": [
    {
     "data": {
      "text/plain": [
       "(40, 42, 341)"
      ]
     },
     "execution_count": 26,
     "metadata": {},
     "output_type": "execute_result"
    }
   ],
   "source": [
    "# loading sample hypercube\n",
    "im3d = []\n",
    "for i in range(1, 41):\n",
    "    im2d = plt.imread(f\"data/pfl6_slab/pfl6_slab/pos{i}.tiff\")\n",
    "    im3d.append(im2d)\n",
    "\n",
    "im3d = np.stack(im3d)\n",
    "im3d.shape\n"
   ]
  },
  {
   "cell_type": "code",
   "execution_count": 27,
   "metadata": {},
   "outputs": [],
   "source": [
    "from orpl.plot import plot3d\n",
    "# Visualization with plot3d\n",
    "\n",
    "%matplotlib qt\n",
    "\n",
    "xaxis = np.linspace(400, 1000, im3d.shape[2])\n",
    "ijk = [20,20,150]\n",
    "\n",
    "plot3d(im3d, ijk=[20, 21, 25], xaxis=xaxis, color_map='viridis')\n"
   ]
  }
 ],
 "metadata": {
  "kernelspec": {
   "display_name": ".venv",
   "language": "python",
   "name": "python3"
  },
  "language_info": {
   "codemirror_mode": {
    "name": "ipython",
    "version": 3
   },
   "file_extension": ".py",
   "mimetype": "text/x-python",
   "name": "python",
   "nbconvert_exporter": "python",
   "pygments_lexer": "ipython3",
   "version": "3.13.7"
  }
 },
 "nbformat": 4,
 "nbformat_minor": 4
}
